{
  "nbformat": 4,
  "nbformat_minor": 0,
  "metadata": {
    "colab": {
      "name": "Brno_day2.ipynb",
      "provenance": [],
      "collapsed_sections": [],
      "authorship_tag": "ABX9TyNDPyxTBXNjeZZxtL90jSMv",
      "include_colab_link": true
    },
    "kernelspec": {
      "name": "python3",
      "display_name": "Python 3"
    },
    "language_info": {
      "name": "python"
    }
  },
  "cells": [
    {
      "cell_type": "markdown",
      "metadata": {
        "id": "view-in-github",
        "colab_type": "text"
      },
      "source": [
        "<a href=\"https://colab.research.google.com/github/bosunKwak/Brno_Machine-Learning/blob/main/Brno_day2.ipynb\" target=\"_parent\"><img src=\"https://colab.research.google.com/assets/colab-badge.svg\" alt=\"Open In Colab\"/></a>"
      ]
    },
    {
      "cell_type": "code",
      "execution_count": null,
      "metadata": {
        "colab": {
          "base_uri": "https://localhost:8080/"
        },
        "id": "f4vJYn1WNLUW",
        "outputId": "fefac92c-f569-41a8-9cad-fa749cb3f07b"
      },
      "outputs": [
        {
          "output_type": "stream",
          "name": "stdout",
          "text": [
            "5\n",
            "1\n",
            "6\n"
          ]
        }
      ],
      "source": [
        "print(2+3)\n",
        "print(3-2)\n",
        "print(3*2)"
      ]
    },
    {
      "cell_type": "code",
      "source": [
        "print(7/2)\n",
        "print(7//2)\n",
        "print(7%2)"
      ],
      "metadata": {
        "colab": {
          "base_uri": "https://localhost:8080/"
        },
        "id": "WqwIMh7Ygq6_",
        "outputId": "26053fa3-d4aa-40f9-d4d8-f76440438018"
      },
      "execution_count": null,
      "outputs": [
        {
          "output_type": "stream",
          "name": "stdout",
          "text": [
            "3.5\n",
            "3\n",
            "1\n"
          ]
        }
      ]
    },
    {
      "cell_type": "code",
      "source": [
        "print(7-(2+3))\n",
        "print(3**2)\n",
        "print(3*3)\n",
        "print(16**0.5)\n",
        "print((10**3+10**2)/2)"
      ],
      "metadata": {
        "colab": {
          "base_uri": "https://localhost:8080/"
        },
        "id": "AaK9DlozO7w9",
        "outputId": "85e58f15-d9d1-4703-a001-fe16d0249219"
      },
      "execution_count": null,
      "outputs": [
        {
          "output_type": "stream",
          "name": "stdout",
          "text": [
            "2\n",
            "9\n",
            "9\n",
            "4.0\n",
            "550.0\n"
          ]
        }
      ]
    },
    {
      "cell_type": "code",
      "source": [
        "print(5+3)\n",
        "print(4*40)\n",
        "print(6/7)"
      ],
      "metadata": {
        "colab": {
          "base_uri": "https://localhost:8080/"
        },
        "id": "KE5_SpzJP_EH",
        "outputId": "4eb337bb-fa57-47cf-b4ac-2fa7b4c97baa"
      },
      "execution_count": null,
      "outputs": [
        {
          "output_type": "stream",
          "name": "stdout",
          "text": [
            "8\n",
            "160\n",
            "0.8571428571428571\n"
          ]
        }
      ]
    },
    {
      "cell_type": "code",
      "source": [
        "income_alice = 1000\n",
        "income_bob = 100\n",
        "print(income_alice, income_bob)"
      ],
      "metadata": {
        "colab": {
          "base_uri": "https://localhost:8080/"
        },
        "id": "CGmJd3flRAan",
        "outputId": "655d184b-cdcc-4819-ab86-367493041fc1"
      },
      "execution_count": null,
      "outputs": [
        {
          "output_type": "stream",
          "name": "stdout",
          "text": [
            "1000 100\n"
          ]
        }
      ]
    },
    {
      "cell_type": "code",
      "source": [
        "(income_alice+income_bob)/2"
      ],
      "metadata": {
        "colab": {
          "base_uri": "https://localhost:8080/"
        },
        "id": "_97C4Cb-RUVG",
        "outputId": "ace0f92f-a72d-474c-d61f-e08e95c8c111"
      },
      "execution_count": null,
      "outputs": [
        {
          "output_type": "execute_result",
          "data": {
            "text/plain": [
              "550.0"
            ]
          },
          "metadata": {},
          "execution_count": 14
        }
      ]
    },
    {
      "cell_type": "code",
      "source": [
        "def average(a,b):\n",
        "  return (a+b)/2\n",
        "average(income_alice,income_bob)"
      ],
      "metadata": {
        "colab": {
          "base_uri": "https://localhost:8080/"
        },
        "id": "xO0MtkojRp3U",
        "outputId": "a4306203-6aa0-4abc-f4fb-e7a7efcbac04"
      },
      "execution_count": null,
      "outputs": [
        {
          "output_type": "execute_result",
          "data": {
            "text/plain": [
              "550.0"
            ]
          },
          "metadata": {},
          "execution_count": 19
        }
      ]
    },
    {
      "cell_type": "code",
      "source": [
        "def sum(a,b):\n",
        "  return (a+b)"
      ],
      "metadata": {
        "id": "knG-YsChSKJm"
      },
      "execution_count": null,
      "outputs": []
    },
    {
      "cell_type": "code",
      "source": [
        "sum(\"I\",\" am\")"
      ],
      "metadata": {
        "colab": {
          "base_uri": "https://localhost:8080/",
          "height": 35
        },
        "id": "ENBMUiTESNQF",
        "outputId": "51d62f2a-7a24-48f9-b444-0abf5a3f89c5"
      },
      "execution_count": null,
      "outputs": [
        {
          "output_type": "execute_result",
          "data": {
            "text/plain": [
              "'I am'"
            ],
            "application/vnd.google.colaboratory.intrinsic+json": {
              "type": "string"
            }
          },
          "metadata": {},
          "execution_count": 22
        }
      ]
    },
    {
      "cell_type": "code",
      "source": [
        "average(income_alice+2,7)"
      ],
      "metadata": {
        "colab": {
          "base_uri": "https://localhost:8080/"
        },
        "id": "E4v6C3anSUp1",
        "outputId": "5936651c-d4ed-450f-b4ec-2c008ff6c183"
      },
      "execution_count": null,
      "outputs": [
        {
          "output_type": "execute_result",
          "data": {
            "text/plain": [
              "504.5"
            ]
          },
          "metadata": {},
          "execution_count": 24
        }
      ]
    },
    {
      "cell_type": "code",
      "source": [
        "def interpolate(a,b,t):\n",
        "  dist = (b-a)*t\n",
        "  return dist+a\n",
        "\n",
        "print(interpolate(0,10,0.7))\n",
        "print(interpolate(-5,5,0.25))"
      ],
      "metadata": {
        "colab": {
          "base_uri": "https://localhost:8080/"
        },
        "id": "m2Zg8jKES4f4",
        "outputId": "27d12a47-e5ba-41d6-d994-6a88ddafceb9"
      },
      "execution_count": null,
      "outputs": [
        {
          "output_type": "stream",
          "name": "stdout",
          "text": [
            "7.0\n",
            "-2.5\n"
          ]
        }
      ]
    },
    {
      "cell_type": "code",
      "source": [
        "def interp2(a,b,t):\n",
        "  return a*(1-t) + b*t\n",
        "\n",
        "print(interp2(0,10,0.7))\n",
        "print(interp2(-5,5,0.25))"
      ],
      "metadata": {
        "colab": {
          "base_uri": "https://localhost:8080/"
        },
        "id": "GnydkQeAXAZs",
        "outputId": "72dfaa2b-eb3b-406c-889b-a37e4363e076"
      },
      "execution_count": null,
      "outputs": [
        {
          "output_type": "stream",
          "name": "stdout",
          "text": [
            "7.0\n",
            "-2.5\n"
          ]
        }
      ]
    },
    {
      "cell_type": "code",
      "source": [
        "def tax(income):\n",
        "  if income<10000:\n",
        "    return 0\n",
        "  else:\n",
        "    return 0.1 * income\n",
        "    \n",
        "print(tax(9000))\n",
        "print(tax(11000))"
      ],
      "metadata": {
        "colab": {
          "base_uri": "https://localhost:8080/"
        },
        "id": "afUVc2S3WF7Y",
        "outputId": "02b070a9-c4ec-4054-b734-ac33d1912149"
      },
      "execution_count": null,
      "outputs": [
        {
          "output_type": "stream",
          "name": "stdout",
          "text": [
            "0\n",
            "1100.0\n"
          ]
        }
      ]
    },
    {
      "cell_type": "code",
      "source": [
        "def tax(income):\n",
        "  if income<10000:\n",
        "    return 0\n",
        "  elif income>50000:\n",
        "    return 0.2*income\n",
        "  else:\n",
        "    return 1000\n",
        "\n",
        "print(tax(9000))\n",
        "print(tax(11000))\n",
        "print(tax(income_alice))\n",
        "print(tax(58000))"
      ],
      "metadata": {
        "colab": {
          "base_uri": "https://localhost:8080/"
        },
        "id": "mPWXG8bJXgYe",
        "outputId": "f741a8fc-07e4-4295-8e37-926395ddb8ec"
      },
      "execution_count": null,
      "outputs": [
        {
          "output_type": "stream",
          "name": "stdout",
          "text": [
            "0\n",
            "1000\n",
            "0\n",
            "11600.0\n"
          ]
        }
      ]
    },
    {
      "cell_type": "code",
      "source": [
        "abs((0.1+0.2)-0.3)<1e-10"
      ],
      "metadata": {
        "colab": {
          "base_uri": "https://localhost:8080/"
        },
        "id": "Ecvh1DdSai0Y",
        "outputId": "8eb86861-2fe7-4d06-8dab-90cb9896bbeb"
      },
      "execution_count": null,
      "outputs": [
        {
          "output_type": "execute_result",
          "data": {
            "text/plain": [
              "True"
            ]
          },
          "metadata": {},
          "execution_count": 41
        }
      ]
    },
    {
      "cell_type": "code",
      "source": [
        "my_list = [1,4,9,16,25,36]"
      ],
      "metadata": {
        "id": "fO_81CeubHjQ"
      },
      "execution_count": null,
      "outputs": []
    },
    {
      "cell_type": "code",
      "source": [
        "print(my_list[0])\n",
        "print(my_list[-1])\n",
        "print(my_list[-2:])\n",
        "print(my_list[2:3])\n",
        "print(my_list[5-2:])"
      ],
      "metadata": {
        "colab": {
          "base_uri": "https://localhost:8080/"
        },
        "id": "FCqguKTdbdMg",
        "outputId": "5a38a619-5623-4a0b-e1bf-0757e828d4de"
      },
      "execution_count": null,
      "outputs": [
        {
          "output_type": "stream",
          "name": "stdout",
          "text": [
            "1\n",
            "36\n",
            "[25, 36]\n",
            "[9]\n",
            "[16, 25, 36]\n"
          ]
        }
      ]
    },
    {
      "cell_type": "code",
      "source": [
        "for x in my_list:\n",
        "  print(x,x**2)"
      ],
      "metadata": {
        "colab": {
          "base_uri": "https://localhost:8080/"
        },
        "id": "WYp07MWIcLCg",
        "outputId": "2d5f96e9-6d73-4991-f412-166fc6d4d74a"
      },
      "execution_count": null,
      "outputs": [
        {
          "output_type": "stream",
          "name": "stdout",
          "text": [
            "1 1\n",
            "4 16\n",
            "9 81\n",
            "16 256\n",
            "25 625\n",
            "36 1296\n"
          ]
        }
      ]
    },
    {
      "cell_type": "code",
      "source": [
        "running_sum = 0\n",
        "for x in my_list:\n",
        "  running_sum += x\n",
        "print(running_sum)"
      ],
      "metadata": {
        "colab": {
          "base_uri": "https://localhost:8080/"
        },
        "id": "u_HJLp2ykMmm",
        "outputId": "3945cf0e-f70d-491a-ca22-2fc0a0e80a4b"
      },
      "execution_count": null,
      "outputs": [
        {
          "output_type": "stream",
          "name": "stdout",
          "text": [
            "91\n"
          ]
        }
      ]
    },
    {
      "cell_type": "code",
      "source": [
        "my_list2 = [1,4,9,16]\n",
        "def averare(my_list):\n",
        "  running_sum = 0\n",
        "  for x in my_list:\n",
        "    running_sum += x\n",
        "  return running_sum/len(my_list)\n",
        "\n",
        "print(averare(my_list2))"
      ],
      "metadata": {
        "colab": {
          "base_uri": "https://localhost:8080/"
        },
        "id": "06sXqJF7kTah",
        "outputId": "71a6bf00-e004-48a8-dcd4-0c26e4b1802a"
      },
      "execution_count": null,
      "outputs": [
        {
          "output_type": "stream",
          "name": "stdout",
          "text": [
            "4\n",
            "7.5\n"
          ]
        }
      ]
    },
    {
      "cell_type": "code",
      "source": [
        "def print_fibonacci(n):\n",
        "  if n==0:\n",
        "    return 0\n",
        "  elif n==1:\n",
        "    return 1\n",
        "  else:\n",
        "    return print_fibonacci(n-1)+print_fibonacci(n-2)\n",
        "  \n",
        "print(print_fibonacci(6))"
      ],
      "metadata": {
        "colab": {
          "base_uri": "https://localhost:8080/"
        },
        "id": "O__JAsk6pGTq",
        "outputId": "ea635aad-f4ba-445f-e728-9f1880272178"
      },
      "execution_count": null,
      "outputs": [
        {
          "output_type": "stream",
          "name": "stdout",
          "text": [
            "8\n"
          ]
        }
      ]
    },
    {
      "cell_type": "code",
      "source": [
        "def print_fibonacci2(n):\n",
        "  arr = [None for _ in range(n)]\n",
        "  for i in range(n):\n",
        "    arr[i] = print_fibonacci(i)\n",
        "  return arr\n",
        "print_fibonacci2(7)"
      ],
      "metadata": {
        "colab": {
          "base_uri": "https://localhost:8080/"
        },
        "id": "IoKBT75BrWTT",
        "outputId": "d034a143-42be-409a-c538-a09f71ce074b"
      },
      "execution_count": null,
      "outputs": [
        {
          "output_type": "execute_result",
          "data": {
            "text/plain": [
              "[0, 1, 1, 2, 3, 5, 8]"
            ]
          },
          "metadata": {},
          "execution_count": 71
        }
      ]
    },
    {
      "cell_type": "code",
      "source": [
        "def print_fib3(n):\n",
        "  if n<= 0:\n",
        "    print(\"Can't do that\")\n",
        "    return\n",
        "  elif n==1:\n",
        "    array = [0]\n",
        "  else:\n",
        "    array = [None for _ in range(n)]\n",
        "    array[0] = 0\n",
        "    array[1] = 1\n",
        "    for i in range(n-2):\n",
        "      array[i+2] = array[i+1] + array[i]\n",
        "   \n",
        "  print(f'First {n} Fibonacci numbers are {array}')\n",
        " \n",
        "\n",
        "print_fib3(3)\n",
        "print_fib3(7)"
      ],
      "metadata": {
        "colab": {
          "base_uri": "https://localhost:8080/"
        },
        "id": "FoJJB7xRvlaN",
        "outputId": "d0147780-b708-42be-cfc3-1d5162fd35d2"
      },
      "execution_count": null,
      "outputs": [
        {
          "output_type": "stream",
          "name": "stdout",
          "text": [
            "First 3 Fibonacci numbers are [0, 1, 1]\n",
            "First 7 Fibonacci numbers are [0, 1, 1, 2, 3, 5, 8]\n"
          ]
        }
      ]
    },
    {
      "cell_type": "code",
      "source": [
        "my_tuple = (1,2,3)"
      ],
      "metadata": {
        "id": "wSm1mUVlxQlL"
      },
      "execution_count": null,
      "outputs": []
    },
    {
      "cell_type": "code",
      "source": [
        "print(my_tuple[1])"
      ],
      "metadata": {
        "colab": {
          "base_uri": "https://localhost:8080/"
        },
        "id": "GKDMtk2SwDvr",
        "outputId": "8d3fae3f-510e-40b9-e50c-2637bab1d554"
      },
      "execution_count": null,
      "outputs": [
        {
          "output_type": "stream",
          "name": "stdout",
          "text": [
            "2\n"
          ]
        }
      ]
    },
    {
      "cell_type": "code",
      "source": [
        "# error - tuple cannt change\n",
        "#my_tuple[1] = 42"
      ],
      "metadata": {
        "id": "lREETMEcxXYO"
      },
      "execution_count": null,
      "outputs": []
    },
    {
      "cell_type": "code",
      "source": [
        "kbs_doe = {'age': 24,'income': 0, 'address': 'Seoul'}"
      ],
      "metadata": {
        "id": "UY8oSMljyW3y"
      },
      "execution_count": null,
      "outputs": []
    },
    {
      "cell_type": "code",
      "source": [
        "kbs_doe"
      ],
      "metadata": {
        "colab": {
          "base_uri": "https://localhost:8080/"
        },
        "id": "I8avSwQ-yjAt",
        "outputId": "bb16eb3f-5c68-4919-b983-b60f0a33ca6f"
      },
      "execution_count": null,
      "outputs": [
        {
          "output_type": "execute_result",
          "data": {
            "text/plain": [
              "{'address': 'Seoul', 'age': 24, 'income': 0}"
            ]
          },
          "metadata": {},
          "execution_count": 97
        }
      ]
    },
    {
      "cell_type": "code",
      "source": [
        "print(kbs_doe)"
      ],
      "metadata": {
        "colab": {
          "base_uri": "https://localhost:8080/"
        },
        "id": "uIE9oTZgyjxn",
        "outputId": "588a440a-5645-4806-8350-8ce7d2d7fab3"
      },
      "execution_count": null,
      "outputs": [
        {
          "output_type": "stream",
          "name": "stdout",
          "text": [
            "{'age': 24, 'income': 0, 'address': 'Seoul'}\n"
          ]
        }
      ]
    },
    {
      "cell_type": "code",
      "source": [
        "kbs_doe['age']"
      ],
      "metadata": {
        "colab": {
          "base_uri": "https://localhost:8080/"
        },
        "id": "w82yueDeymFF",
        "outputId": "62559581-40e7-4be4-a724-8863c4773477"
      },
      "execution_count": null,
      "outputs": [
        {
          "output_type": "execute_result",
          "data": {
            "text/plain": [
              "24"
            ]
          },
          "metadata": {},
          "execution_count": 100
        }
      ]
    },
    {
      "cell_type": "code",
      "source": [
        "print(my_list)"
      ],
      "metadata": {
        "colab": {
          "base_uri": "https://localhost:8080/"
        },
        "id": "aw5T7xnE0Imi",
        "outputId": "97a8870d-8912-4802-f26c-679b58c42526"
      },
      "execution_count": null,
      "outputs": [
        {
          "output_type": "stream",
          "name": "stdout",
          "text": [
            "[1, 4, 9, 16, 25, 36]\n"
          ]
        }
      ]
    },
    {
      "cell_type": "code",
      "source": [
        "{x: f'The square is {x**2}.' for x in my_list}"
      ],
      "metadata": {
        "colab": {
          "base_uri": "https://localhost:8080/"
        },
        "id": "jHhRcoua0DBp",
        "outputId": "154cd3e3-c4f3-4a23-a4ef-5154a0f2ee8d"
      },
      "execution_count": null,
      "outputs": [
        {
          "output_type": "execute_result",
          "data": {
            "text/plain": [
              "{1: 'The square is 1.',\n",
              " 4: 'The square is 16.',\n",
              " 9: 'The square is 81.',\n",
              " 16: 'The square is 256.',\n",
              " 25: 'The square is 625.',\n",
              " 36: 'The square is 1296.'}"
            ]
          },
          "metadata": {},
          "execution_count": 101
        }
      ]
    },
    {
      "cell_type": "code",
      "source": [
        "[x**2 for x in my_list if x %2 == 0]"
      ],
      "metadata": {
        "colab": {
          "base_uri": "https://localhost:8080/"
        },
        "id": "nJs-Qcvo0N6_",
        "outputId": "1eb5285b-33e6-4ed0-86c8-d50683001279"
      },
      "execution_count": null,
      "outputs": [
        {
          "output_type": "execute_result",
          "data": {
            "text/plain": [
              "[16, 256, 1296]"
            ]
          },
          "metadata": {},
          "execution_count": 103
        }
      ]
    },
    {
      "cell_type": "code",
      "source": [
        "x = [1,2,4]\n",
        "y = [0,7,-1]"
      ],
      "metadata": {
        "id": "aDD1hGGscZ1c"
      },
      "execution_count": null,
      "outputs": []
    },
    {
      "cell_type": "code",
      "source": [
        "def dot1(x,y):\n",
        "  sum = 0\n",
        "  for i in range(len(x)):\n",
        "    sum += x[i]*y[i]\n",
        "  return sum\n"
      ],
      "metadata": {
        "id": "BwNeQwu3cim7"
      },
      "execution_count": null,
      "outputs": []
    },
    {
      "cell_type": "code",
      "source": [
        "def dot2(x,y):\n",
        "  return sum([a*b for a,b in zip(x,y)])\n",
        "# https://www.daleseo.com/python-zip/"
      ],
      "metadata": {
        "id": "gzXnfV1JdKof"
      },
      "execution_count": null,
      "outputs": []
    },
    {
      "cell_type": "code",
      "source": [
        "print(x,y,'->',dot1(x,y))\n",
        "print(x,y,'->',dot2(x,y))"
      ],
      "metadata": {
        "colab": {
          "base_uri": "https://localhost:8080/"
        },
        "id": "Q6bax4KHcq7a",
        "outputId": "ab535ab8-5d64-468c-a96b-d6b7d8be1740"
      },
      "execution_count": null,
      "outputs": [
        {
          "output_type": "stream",
          "name": "stdout",
          "text": [
            "[1, 2, 4] [0, 7, -1] -> 10\n",
            "[1, 2, 4] [0, 7, -1] -> 10\n"
          ]
        }
      ]
    },
    {
      "cell_type": "code",
      "source": [
        "x_big = list(range(1500))\n",
        "y_big = list(range(1500))\n",
        "\n",
        "print('x',len(x_big), x_big[:5],x_big[-5:])"
      ],
      "metadata": {
        "colab": {
          "base_uri": "https://localhost:8080/"
        },
        "id": "75Gja8UKdIw9",
        "outputId": "3c0be2cd-58b5-4967-9dc3-bb63261253db"
      },
      "execution_count": null,
      "outputs": [
        {
          "output_type": "stream",
          "name": "stdout",
          "text": [
            "x 1500 [0, 1, 2, 3, 4] [1495, 1496, 1497, 1498, 1499]\n"
          ]
        }
      ]
    },
    {
      "cell_type": "code",
      "source": [
        "import time\n",
        "t0 = time.time()\n",
        "dot1(x_big, y_big)\n",
        "t1 = time.time()\n",
        "\n",
        "print(f'It took {t1-t0} seconds')\n",
        "print(f'It took {1000.*(t1-t0):.2f} miliseconds')"
      ],
      "metadata": {
        "colab": {
          "base_uri": "https://localhost:8080/"
        },
        "id": "IJdKmJlBd52d",
        "outputId": "3206e2f1-cd0d-47fb-9411-69f61bff9bcd"
      },
      "execution_count": null,
      "outputs": [
        {
          "output_type": "stream",
          "name": "stdout",
          "text": [
            "It took 0.0005633831024169922 seconds\n",
            "It took 0.56 miliseconds\n"
          ]
        }
      ]
    },
    {
      "cell_type": "code",
      "source": [
        "dot1 = dot1(x,y)"
      ],
      "metadata": {
        "id": "WqvYB6QSeHEg"
      },
      "execution_count": null,
      "outputs": []
    },
    {
      "cell_type": "code",
      "source": [
        "dot1"
      ],
      "metadata": {
        "colab": {
          "base_uri": "https://localhost:8080/"
        },
        "id": "9x0-MeSrhvVD",
        "outputId": "73595d8b-4d13-46f0-db59-afce16bec22f"
      },
      "execution_count": null,
      "outputs": [
        {
          "output_type": "execute_result",
          "data": {
            "text/plain": [
              "10"
            ]
          },
          "metadata": {},
          "execution_count": 19
        }
      ]
    },
    {
      "cell_type": "code",
      "source": [
        "my_list = [1,'hello',[2,3],{1:11,2:22,3:43}]"
      ],
      "metadata": {
        "id": "sMqUZnrfikYO"
      },
      "execution_count": null,
      "outputs": []
    },
    {
      "cell_type": "code",
      "source": [
        "my_list[2]"
      ],
      "metadata": {
        "colab": {
          "base_uri": "https://localhost:8080/"
        },
        "id": "KmL5jXRRip3A",
        "outputId": "784a16f1-c7d4-4dd9-ad45-adf9162ac6fa"
      },
      "execution_count": null,
      "outputs": [
        {
          "output_type": "execute_result",
          "data": {
            "text/plain": [
              "[2, 3]"
            ]
          },
          "metadata": {},
          "execution_count": 21
        }
      ]
    },
    {
      "cell_type": "code",
      "source": [
        "import numpy \n",
        "vec1 = numpy.asarray([1,2,3])\n",
        "print(vec1)"
      ],
      "metadata": {
        "colab": {
          "base_uri": "https://localhost:8080/"
        },
        "id": "vGIar11siq97",
        "outputId": "c136d88b-b7bd-42b5-cb3c-9ed7c03b0b79"
      },
      "execution_count": null,
      "outputs": [
        {
          "output_type": "stream",
          "name": "stdout",
          "text": [
            "[1 2 3]\n"
          ]
        }
      ]
    },
    {
      "cell_type": "code",
      "source": [
        "import numpy as np\n",
        "vec2 = np.asarray([1,2,0,3])\n",
        "print(vec2)"
      ],
      "metadata": {
        "colab": {
          "base_uri": "https://localhost:8080/"
        },
        "id": "Tlo8VBV0jPEm",
        "outputId": "0e84191f-cd4b-4c5e-c348-8d5b886633c9"
      },
      "execution_count": null,
      "outputs": [
        {
          "output_type": "stream",
          "name": "stdout",
          "text": [
            "[1 2 0 3]\n"
          ]
        }
      ]
    },
    {
      "cell_type": "code",
      "source": [
        "vec1 = np.asarray(x)\n",
        "vec2 = np.asarray(y)\n",
        "print(vec1,vec2)"
      ],
      "metadata": {
        "colab": {
          "base_uri": "https://localhost:8080/"
        },
        "id": "EfJA3DXHjTX2",
        "outputId": "67548144-5cb7-4005-8850-47e337cf5ab7"
      },
      "execution_count": null,
      "outputs": [
        {
          "output_type": "stream",
          "name": "stdout",
          "text": [
            "[1 2 4] [ 0  7 -1]\n"
          ]
        }
      ]
    },
    {
      "cell_type": "code",
      "source": [
        "vec1 +1"
      ],
      "metadata": {
        "colab": {
          "base_uri": "https://localhost:8080/"
        },
        "id": "ZfA3mV7akT9L",
        "outputId": "94514813-1e1a-4bac-f551-fd9b0e63b881"
      },
      "execution_count": null,
      "outputs": [
        {
          "output_type": "execute_result",
          "data": {
            "text/plain": [
              "array([2, 3, 5])"
            ]
          },
          "metadata": {},
          "execution_count": 28
        }
      ]
    },
    {
      "cell_type": "code",
      "source": [
        "vec1 + vec2"
      ],
      "metadata": {
        "colab": {
          "base_uri": "https://localhost:8080/"
        },
        "id": "gVVs1Ynzkkp5",
        "outputId": "ff3e4642-fb78-46b6-e8d1-95694cda4d84"
      },
      "execution_count": null,
      "outputs": [
        {
          "output_type": "execute_result",
          "data": {
            "text/plain": [
              "array([1, 9, 3])"
            ]
          },
          "metadata": {},
          "execution_count": 29
        }
      ]
    },
    {
      "cell_type": "code",
      "source": [
        "np.sum(vec1)"
      ],
      "metadata": {
        "colab": {
          "base_uri": "https://localhost:8080/"
        },
        "id": "EJEPDs2aknFG",
        "outputId": "2cd15e8f-79f7-4c31-b497-986266a271cf"
      },
      "execution_count": null,
      "outputs": [
        {
          "output_type": "execute_result",
          "data": {
            "text/plain": [
              "7"
            ]
          },
          "metadata": {},
          "execution_count": 30
        }
      ]
    },
    {
      "cell_type": "code",
      "source": [
        "def dot3(x,y):\n",
        "  return np.sum(x*y)\n",
        "dot3(vec1,vec2)"
      ],
      "metadata": {
        "colab": {
          "base_uri": "https://localhost:8080/"
        },
        "id": "CX5NkdeolF8Y",
        "outputId": "613a92fb-2b3f-482a-ab32-48b597808e43"
      },
      "execution_count": null,
      "outputs": [
        {
          "output_type": "execute_result",
          "data": {
            "text/plain": [
              "10"
            ]
          },
          "metadata": {},
          "execution_count": 34
        }
      ]
    },
    {
      "cell_type": "code",
      "source": [
        "t0 = time.time()\n",
        "for _ in range(100):\n",
        "  dot3(np.asarray(x_big), np.asarray(y_big))\n",
        "\n",
        "t1 = time.time()\n",
        "\n",
        "print(f'It took {1000.*(t1-t0):.2f} miliseconds')"
      ],
      "metadata": {
        "colab": {
          "base_uri": "https://localhost:8080/"
        },
        "id": "WEqN1izEoeNc",
        "outputId": "4a9ff689-381b-44f2-8dde-7493a482cab2"
      },
      "execution_count": null,
      "outputs": [
        {
          "output_type": "stream",
          "name": "stdout",
          "text": [
            "It took 36.16 miliseconds\n"
          ]
        }
      ]
    },
    {
      "cell_type": "code",
      "source": [
        ""
      ],
      "metadata": {
        "id": "nbBAK6PRvfWk"
      },
      "execution_count": null,
      "outputs": []
    }
  ]
}