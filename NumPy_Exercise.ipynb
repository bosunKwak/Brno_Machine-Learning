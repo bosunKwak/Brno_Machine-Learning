{
  "nbformat": 4,
  "nbformat_minor": 0,
  "metadata": {
    "colab": {
      "name": "NumPy_Exercise",
      "provenance": [],
      "collapsed_sections": [],
      "include_colab_link": true
    },
    "kernelspec": {
      "name": "python3",
      "display_name": "Python 3"
    },
    "language_info": {
      "name": "python"
    }
  },
  "cells": [
    {
      "cell_type": "markdown",
      "metadata": {
        "id": "view-in-github",
        "colab_type": "text"
      },
      "source": [
        "<a href=\"https://colab.research.google.com/github/bosunKwak/Brno_Machine-Learning/blob/main/NumPy_Exercise.ipynb\" target=\"_parent\"><img src=\"https://colab.research.google.com/assets/colab-badge.svg\" alt=\"Open In Colab\"/></a>"
      ]
    },
    {
      "cell_type": "code",
      "source": [
        "import numpy as np\n",
        "\n",
        "np.random.seed(17)\n",
        "\n",
        "# Create array of 6 ascending integers using function 'arange' and store the result to 'a'\n",
        "a = np.arange(6)\n",
        "\n",
        "# Create matrix of random values of shape (4, 6) and store the result to 'b'. Use the 'random' function with no parameters other than the shape.\n",
        "b = np.random.random((4,6))\n",
        "\n",
        "# Create identity matrix of size 2 and store the result to 'c'\n",
        "c = np.eye(2)\n",
        "\n",
        "# Create array of 4 random values and store the result to 'd'. Use the 'random' function with no parameters other than the shape.\n",
        "d = np.random.random(4)\n",
        "\n",
        "\n",
        "# Using broadcasting add 'a' and 'b' and store the result to 'e'\n",
        "e = a+b\n",
        "\n",
        "# Reshape 'e' to (3, 8) and store the result to 'f'\n",
        "f = e.reshape((3,8))\n",
        "\n",
        "# Calculate maximum of 'f' along axis 0 and store the result to 'g'\n",
        "g = np.max(f, axis = 0)\n",
        "\n",
        "# Using slicing with step, multiply every third element of g by -1 (use '*= -1')\n",
        "#g[...] *= -1\n",
        "g[::3] *= -1\n",
        "\n",
        "# Reshape g to (2, 4) and store the result to 'h'\n",
        "h = g.reshape((2,4))\n",
        "\n",
        "# Concatenate 'c' twice (with itself) along axis 1 and store the result to 'i'. \n",
        "# The result must be of shape (2, 4) and the content must be [[1, 0, 1, 0], [0, 1, 0, 1]]\n",
        "i = np.concatenate((c,c),axis = 1)\n",
        "# print(c) \n",
        "# print(i)\n",
        "\n",
        "# Multiply 'h' by 'i' and store the result to 'j'\n",
        "j = h*i\n",
        "\n",
        "# Sum 'j' along axis 0 and store the result to 'k'\n",
        "k = np.sum(j, axis = 0)\n",
        "\n",
        "# Calculate the square (power 2) of 'k' and store the result to 'l'\n",
        "l = k**2\n",
        "\n",
        "# Calculate the index of maximum of 'd' and store the result to 'm'\n",
        "m = np.argmax(d)\n",
        "\n",
        "# From 'l' select the element by index stored in 'm' and store the result to 'n'\n",
        "n = l[m]\n",
        "\n",
        "# Convert 'n' to 'np.int64' and store the result to 'o'\n",
        "o = n.astype(np.int64)"
      ],
      "metadata": {
        "id": "CyZ3kXcK3mcF"
      },
      "execution_count": 3,
      "outputs": []
    },
    {
      "cell_type": "markdown",
      "source": [
        "## Check your result"
      ],
      "metadata": {
        "id": "Tjl3Nz9QEc3u"
      }
    },
    {
      "cell_type": "code",
      "source": [
        "import hashlib\n",
        "\n",
        "if hashlib.md5(str(o).encode('utf-8')).hexdigest() == \"98f13708210194c475687be6106a3b84\":\n",
        "  print(\"Your result is OK.\")\n",
        "\n",
        "else:\n",
        "  print(\"Your result is NOT OK. There's probably error in your code.\")"
      ],
      "metadata": {
        "id": "7MMAkh79CU7x",
        "colab": {
          "base_uri": "https://localhost:8080/"
        },
        "outputId": "1f834fed-61d0-4cb0-b0f3-16acd064302e"
      },
      "execution_count": 4,
      "outputs": [
        {
          "output_type": "stream",
          "name": "stdout",
          "text": [
            "Your result is OK.\n"
          ]
        }
      ]
    }
  ]
}